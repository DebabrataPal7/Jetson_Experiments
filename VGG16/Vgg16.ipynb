{
  "nbformat": 4,
  "nbformat_minor": 0,
  "metadata": {
    "colab": {
      "provenance": [],
      "gpuType": "T4"
    },
    "kernelspec": {
      "name": "python3",
      "display_name": "Python 3"
    },
    "language_info": {
      "name": "python"
    },
    "accelerator": "GPU"
  },
  "cells": [
    {
      "cell_type": "markdown",
      "source": [
        "Train_mobilenet.py"
      ],
      "metadata": {
        "id": "Cu4Hivj2-h4v"
      }
    },
    {
      "cell_type": "code",
      "execution_count": 1,
      "metadata": {
        "id": "yoUctJdK-LC5"
      },
      "outputs": [],
      "source": [
        "import tensorflow as tf\n",
        "import numpy as np\n",
        "import matplotlib.pyplot as plt"
      ]
    },
    {
      "cell_type": "code",
      "source": [
        "mnist = tf.keras.datasets.mnist\n",
        "(x_train, y_train), (x_test, y_test) = mnist.load_data()\n",
        "x_train, x_test = x_train / 255.0, x_test / 255.0\n",
        "\n",
        "x_train = np.expand_dims(x_train, -1)\n",
        "x_test = np.expand_dims(x_test, -1)\n",
        "\n",
        "x_train = np.repeat(x_train, 3, axis = -1)\n",
        "x_test = np.repeat(x_test, 3, axis = -1)"
      ],
      "metadata": {
        "colab": {
          "base_uri": "https://localhost:8080/"
        },
        "id": "S_SbA_Gv-bMO",
        "outputId": "0ed647e3-df8c-4874-c776-c9d278693a66"
      },
      "execution_count": 2,
      "outputs": [
        {
          "output_type": "stream",
          "name": "stdout",
          "text": [
            "Downloading data from https://storage.googleapis.com/tensorflow/tf-keras-datasets/mnist.npz\n",
            "\u001b[1m11490434/11490434\u001b[0m \u001b[32m━━━━━━━━━━━━━━━━━━━━\u001b[0m\u001b[37m\u001b[0m \u001b[1m2s\u001b[0m 0us/step\n"
          ]
        }
      ]
    },
    {
      "cell_type": "code",
      "source": [
        "BATCH_SIZE = 32\n",
        "Autotune = tf.data.experimental.AUTOTUNE\n",
        "\n",
        "def preprocess(image, label):\n",
        "    image = tf.image.resize(image, (224, 224))\n",
        "    return image, label\n",
        "\n",
        "train_dataset = (\n",
        "    tf.data.Dataset.from_tensor_slices((x_train, y_train))\n",
        "    .map(preprocess, num_parallel_calls = Autotune)\n",
        "    .batch(BATCH_SIZE)\n",
        "    .prefetch(Autotune)\n",
        ")\n",
        "\n",
        "test_dataset = (\n",
        "    tf.data.Dataset.from_tensor_slices((x_test, y_test))\n",
        "    .map(preprocess, num_parallel_calls = Autotune)\n",
        "    .batch(BATCH_SIZE)\n",
        "    .prefetch(Autotune)\n",
        ")\n",
        "\n",
        "base_model = tf.keras.applications.VGG16(\n",
        "    input_shape = (224, 224, 3),\n",
        "    include_top = False,\n",
        "    weights = 'imagenet'\n",
        ")\n",
        "base_model.trainable = False\n",
        "model = tf.keras.Sequential([\n",
        "    base_model,\n",
        "    tf.keras.layers.GlobalAveragePooling2D(),\n",
        "    tf.keras.layers.Dense(512, activation = 'relu'),\n",
        "    tf.keras.layers.Dropout(0.5),\n",
        "    tf.keras.layers.Dense(10, activation = 'softmax')\n",
        "])\n",
        "\n",
        "model.compile(\n",
        "    optimizer = 'adam',\n",
        "    loss = 'sparse_categorical_crossentropy',\n",
        "    metrics = ['accuracy']\n",
        ")\n",
        "\n",
        "history = model.fit(\n",
        "    train_dataset,\n",
        "    validation_data = test_dataset,\n",
        "    epochs = 1\n",
        ")\n",
        "\n",
        "model.save('vgg16_mnist_model.h5')"
      ],
      "metadata": {
        "colab": {
          "base_uri": "https://localhost:8080/"
        },
        "id": "IZJmdkCV-6rh",
        "outputId": "feda88eb-9fa9-4805-b934-fc070bc59d63"
      },
      "execution_count": 3,
      "outputs": [
        {
          "output_type": "stream",
          "name": "stdout",
          "text": [
            "Downloading data from https://storage.googleapis.com/tensorflow/keras-applications/vgg16/vgg16_weights_tf_dim_ordering_tf_kernels_notop.h5\n",
            "\u001b[1m58889256/58889256\u001b[0m \u001b[32m━━━━━━━━━━━━━━━━━━━━\u001b[0m\u001b[37m\u001b[0m \u001b[1m4s\u001b[0m 0us/step\n",
            "\u001b[1m1875/1875\u001b[0m \u001b[32m━━━━━━━━━━━━━━━━━━━━\u001b[0m\u001b[37m\u001b[0m \u001b[1m379s\u001b[0m 195ms/step - accuracy: 0.7139 - loss: 0.9396 - val_accuracy: 0.9427 - val_loss: 0.1995\n"
          ]
        },
        {
          "output_type": "stream",
          "name": "stderr",
          "text": [
            "WARNING:absl:You are saving your model as an HDF5 file via `model.save()` or `keras.saving.save_model(model)`. This file format is considered legacy. We recommend using instead the native Keras format, e.g. `model.save('my_model.keras')` or `keras.saving.save_model(model, 'my_model.keras')`. \n"
          ]
        }
      ]
    },
    {
      "cell_type": "code",
      "source": [
        "converter = tf.lite.TFLiteConverter.from_keras_model(model)\n",
        "tflite_model = converter.convert()\n",
        "\n",
        "with open('vgg16_mnist_model.tflite', 'wb') as f:\n",
        "    f.write(tflite_model)\n",
        "\n",
        "plt.plot(history.history['accuracy'],label='Accuracy')\n",
        "plt.plot(history.history['val_accuracy'],label = 'Validation Accuracy')\n",
        "plt.title('Training and Validation Accuracy')\n",
        "plt.ylabel('Accuracy')\n",
        "plt.xlabel('Epoch')\n",
        "plt.legend()\n",
        "plt.show()"
      ],
      "metadata": {
        "colab": {
          "base_uri": "https://localhost:8080/",
          "height": 1000
        },
        "id": "HI-Fi0m8AJmJ",
        "outputId": "8ebf24b0-be5b-45da-a1f2-10892a5ae482"
      },
      "execution_count": 4,
      "outputs": [
        {
          "output_type": "stream",
          "name": "stdout",
          "text": [
            "Saved artifact at '/tmp/tmpkl_6lw_o'. The following endpoints are available:\n",
            "\n",
            "* Endpoint 'serve'\n",
            "  args_0 (POSITIONAL_ONLY): TensorSpec(shape=(None, 224, 224, 3), dtype=tf.float32, name='keras_tensor_19')\n",
            "Output Type:\n",
            "  TensorSpec(shape=(None, 10), dtype=tf.float32, name=None)\n",
            "Captures:\n",
            "  133227046496848: TensorSpec(shape=(), dtype=tf.resource, name=None)\n",
            "  133227046497424: TensorSpec(shape=(), dtype=tf.resource, name=None)\n",
            "  133227046496656: TensorSpec(shape=(), dtype=tf.resource, name=None)\n",
            "  133227046497232: TensorSpec(shape=(), dtype=tf.resource, name=None)\n",
            "  133227046498576: TensorSpec(shape=(), dtype=tf.resource, name=None)\n",
            "  133227046497808: TensorSpec(shape=(), dtype=tf.resource, name=None)\n",
            "  133227046498384: TensorSpec(shape=(), dtype=tf.resource, name=None)\n",
            "  133227046499152: TensorSpec(shape=(), dtype=tf.resource, name=None)\n",
            "  133227046499536: TensorSpec(shape=(), dtype=tf.resource, name=None)\n",
            "  133227046500496: TensorSpec(shape=(), dtype=tf.resource, name=None)\n",
            "  133227046499920: TensorSpec(shape=(), dtype=tf.resource, name=None)\n",
            "  133227046501648: TensorSpec(shape=(), dtype=tf.resource, name=None)\n",
            "  133227046501840: TensorSpec(shape=(), dtype=tf.resource, name=None)\n",
            "  133227046502032: TensorSpec(shape=(), dtype=tf.resource, name=None)\n",
            "  133227045126608: TensorSpec(shape=(), dtype=tf.resource, name=None)\n",
            "  133227045128528: TensorSpec(shape=(), dtype=tf.resource, name=None)\n",
            "  133227045126800: TensorSpec(shape=(), dtype=tf.resource, name=None)\n",
            "  133227045129680: TensorSpec(shape=(), dtype=tf.resource, name=None)\n",
            "  133227045127568: TensorSpec(shape=(), dtype=tf.resource, name=None)\n",
            "  133227045130832: TensorSpec(shape=(), dtype=tf.resource, name=None)\n",
            "  133227045130256: TensorSpec(shape=(), dtype=tf.resource, name=None)\n",
            "  133227045131600: TensorSpec(shape=(), dtype=tf.resource, name=None)\n",
            "  133227045131024: TensorSpec(shape=(), dtype=tf.resource, name=None)\n",
            "  133227045132368: TensorSpec(shape=(), dtype=tf.resource, name=None)\n",
            "  133227045131792: TensorSpec(shape=(), dtype=tf.resource, name=None)\n",
            "  133227045133136: TensorSpec(shape=(), dtype=tf.resource, name=None)\n",
            "  133227045134288: TensorSpec(shape=(), dtype=tf.resource, name=None)\n",
            "  133227045135824: TensorSpec(shape=(), dtype=tf.resource, name=None)\n",
            "  133227045135248: TensorSpec(shape=(), dtype=tf.resource, name=None)\n",
            "  133227045136592: TensorSpec(shape=(), dtype=tf.resource, name=None)\n"
          ]
        },
        {
          "output_type": "display_data",
          "data": {
            "text/plain": [
              "<Figure size 640x480 with 1 Axes>"
            ],
            "image/png": "[encoded data removed]"
          },
          "metadata": {}
        }
      ]
    },
    {
      "cell_type": "markdown",
      "source": [
        "convert_tflite.py"
      ],
      "metadata": {
        "id": "6hSiOV6QBikO"
      }
    },
    {
      "cell_type": "code",
      "source": [
        "import tensorflow as tf\n",
        "import numpy as np\n",
        "from tensorflow.lite.python.interpreter import Interpreter\n",
        "import tensorflow_datasets as tfds\n",
        "import cv2\n",
        "\n",
        "mnist = tf.keras.datasets.mnist\n",
        "(x_train, y_train), (x_test, y_test) = mnist.load_data()\n",
        "x_test = x_test[:10,:,:]\n",
        "y_test = y_test[:10]\n",
        "\n",
        "x_test = x_test/255.0\n",
        "x_test = np.expand_dims(x_test, -1)\n",
        "x_test = np.repeat(x_test, 3, axis = -1)\n",
        "\n",
        "interpreter = Interpreter(model_path=\"vgg16_mnist_model.tflite\")\n",
        "interpreter.allocate_tensors()\n",
        "\n",
        "input_details = interpreter.get_input_details()\n",
        "output_details = interpreter.get_output_details()\n",
        "\n",
        "predictions = []\n",
        "for i in range(len(x_test)):\n",
        "    input_data = cv2.resize(x_test[i], (224, 224))\n",
        "    input_data = np.expand_dims(input_data, axis=0).astype(np.float32)\n",
        "    interpreter.set_tensor(input_details[0]['index'], input_data)\n",
        "    interpreter.invoke()\n",
        "    output_data = interpreter.get_tensor(output_details[0]['index'])\n",
        "    predictions.append(np.argmax(output_data))\n",
        "\n",
        "\n",
        "predictions = np.array(predictions)\n",
        "accuracy = np.sum(predictions == y_test) / len(y_test)\n",
        "print(f'TFLite Model Accuracy: {accuracy * 100:.2f}%')"
      ],
      "metadata": {
        "colab": {
          "base_uri": "https://localhost:8080/"
        },
        "id": "eAVkW7_IBl5N",
        "outputId": "cb6c1700-729f-4156-8574-6eb39ab63b1c"
      },
      "execution_count": 19,
      "outputs": [
        {
          "output_type": "stream",
          "name": "stdout",
          "text": [
            "TFLite Model Accuracy: 80.00%\n"
          ]
        }
      ]
    },
    {
      "cell_type": "markdown",
      "source": [
        "run_inference.py"
      ],
      "metadata": {
        "id": "GdZ6fOwRJAsx"
      }
    },
    {
      "cell_type": "code",
      "source": [
        "import tensorflow as tf\n",
        "import numpy as np\n",
        "import time\n",
        "import cv2\n",
        "\n",
        "interpreter = tf.lite.Interpreter(model_path='vgg16_mnist_model.tflite')\n",
        "interpreter.allocate_tensors()\n",
        "\n",
        "input_details = interpreter.get_input_details()\n",
        "output_details = interpreter.get_output_details()\n",
        "\n",
        "def preprocess_image(image_path):\n",
        "    img = cv2.imread(image_path, cv2.IMREAD_GRAYSCALE)\n",
        "    img = cv2.resize(img, (224, 224))\n",
        "    img = np.expand_dims(img, axis=-1)\n",
        "    img = img.astype(np.float32)\n",
        "    img = np.expand_dims(img, axis=0)\n",
        "    img = np.repeat(img, 3, axis=-1)\n",
        "    img = img / 255.0\n",
        "    return img\n",
        "\n",
        "image_path = 'test_image.png'\n",
        "input_data = preprocess_image(image_path)\n",
        "\n",
        "interpreter.set_tensor(input_details[0]['index'], input_data)\n",
        "interpreter.invoke()\n",
        "\n",
        "output_data = interpreter.get_tensor(output_details[0]['index'])\n",
        "predicted_class = np.argmax(output_data)\n",
        "print('Predicted class:', predicted_class)\n",
        "\n",
        "times = []\n",
        "for i in range(20):\n",
        "    start_time = time.time()\n",
        "    interpreter.set_tensor(input_details[0]['index'], input_data)\n",
        "    interpreter.invoke()\n",
        "    delta = time.time() - start_time\n",
        "    times.append(delta)\n",
        "\n",
        "avg_time = np.mean(times)\n",
        "fps = 1 / avg_time\n",
        "print(f\"Average time per inference: {avg_time:.4f} seconds, FPS: {fps:.2f}\")"
      ],
      "metadata": {
        "colab": {
          "base_uri": "https://localhost:8080/"
        },
        "id": "y1WhVBBOJEWd",
        "outputId": "727d2634-3e9f-43b8-c171-848876de6103"
      },
      "execution_count": 20,
      "outputs": [
        {
          "output_type": "stream",
          "name": "stdout",
          "text": [
            "Predicted class: 7\n",
            "Average time per inference: 0.5001 seconds, FPS: 2.00\n"
          ]
        }
      ]
    }
  ]
}